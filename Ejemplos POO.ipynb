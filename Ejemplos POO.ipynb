{
 "cells": [
  {
   "attachments": {},
   "cell_type": "markdown",
   "id": "0427538e-65c4-4e82-b17e-daeae1401da2",
   "metadata": {},
   "source": [
    "# Herencia\n",
    "Permite que una clase herede propiedades y métodos de otra clase. Facilita la reutilización de código y la creación de jerarquías de clases.\n"
   ]
  },
  {
   "cell_type": "code",
   "execution_count": null,
   "id": "e1570c93-9985-4f1f-bc3c-a3bf383181a2",
   "metadata": {},
   "outputs": [],
   "source": [
    "# Clase base\n",
    "class Vehiculo:\n",
    "    def __init__(self, marca, modelo):\n",
    "        self.marca = marca\n",
    "        self.modelo = modelo\n",
    "\n",
    "# Subclase que hereda de Vehiculo\n",
    "class Coche(Vehiculo):\n",
    "    def __init__(self, marca, modelo, color):\n",
    "        # Llama al constructor de la clase base\n",
    "        super().__init__(marca, modelo)\n",
    "        self.color = color\n",
    "\n",
    "# Creación de una instancia de la subclase\n",
    "mi_coche = Coche(\"Toyota\", \"Camry\", \"Rojo\")\n",
    "print(mi_coche.marca)  # Salida: \"Toyota\""
   ]
  },
  {
   "attachments": {},
   "cell_type": "markdown",
   "id": "e74c831f-2fef-42c1-b6b9-1cc92b7cf453",
   "metadata": {},
   "source": [
    "# Polimorfismo\n",
    "Permite que objetos de diferentes clases respondan de manera similar a ciertos métodos, lo que facilita el diseño de interfaces genéricas y flexibles.\n"
   ]
  },
  {
   "cell_type": "code",
   "execution_count": null,
   "id": "ed57b639-a9d8-469f-b836-7f36b115d6d0",
   "metadata": {},
   "outputs": [],
   "source": [
    "# Clase base\n",
    "class Animal:\n",
    "    def hablar(self):\n",
    "        pass\n",
    "\n",
    "# Subclases\n",
    "class Perro(Animal):\n",
    "    def hablar(self):\n",
    "        return \"Woof!\"\n",
    "\n",
    "class Gato(Animal):\n",
    "    def hablar(self):\n",
    "        return \"Miau!\"\n",
    "\n",
    "# Función polimórfica\n",
    "def hacer_sonar(animal):\n",
    "    return animal.hablar()\n",
    "\n",
    "# Uso del polimorfismo\n",
    "mi_perro = Perro()\n",
    "mi_gato = Gato()\n",
    "print(hacer_sonar(mi_perro))  # Salida: \"Woof!\"\n",
    "print(hacer_sonar(mi_gato))   # Salida: \"Miau!\""
   ]
  },
  {
   "attachments": {},
   "cell_type": "markdown",
   "id": "50ab9970-27fe-4617-aa8c-e7a4f25d6a60",
   "metadata": {},
   "source": [
    "# Sobrecarga de Métodos\n",
    "La capacidad de definir múltiples métodos con el mismo nombre en una clase, pero con diferentes parámetros. Se selecciona el método correcto según los argumentos proporcionados.\n"
   ]
  },
  {
   "cell_type": "code",
   "execution_count": null,
   "id": "262a971c-c451-46ad-957f-1cff8c414e11",
   "metadata": {},
   "outputs": [],
   "source": [
    "class Calculadora:\n",
    "    def suma(self, a, b=0):\n",
    "        return a + b\n",
    "\n",
    "# Creación de una instancia de la clase\n",
    "calc = Calculadora()\n",
    "\n",
    "# Llamada a la función suma con un solo argumento\n",
    "resultado1 = calc.suma(5)\n",
    "print(resultado1)  # Salida: 5 (5 + 0)\n",
    "\n",
    "# Llamada a la función suma con dos argumentos\n",
    "resultado2 = calc.suma(5, 3)\n",
    "print(resultado2)  # Salida: 8 (5 + 3)"
   ]
  },
  {
   "cell_type": "markdown",
   "id": "e104bd06-034f-4a87-af1d-ffb58480650e",
   "metadata": {},
   "source": [
    "# Sobreescritura de Métodos\n",
    "\n",
    "Permite a una subclase proporcionar una implementación específica de un método que ya está definido en su clase base.\n"
   ]
  },
  {
   "cell_type": "code",
   "execution_count": null,
   "id": "95ba5c63-9de6-41cc-bbb4-17122b336bfd",
   "metadata": {},
   "outputs": [],
   "source": [
    "# Clase base\n",
    "class Vehiculo:\n",
    "    def describir(self):\n",
    "        return \"Este es un vehículo genérico.\"\n",
    "\n",
    "# Subclase que sobrescribe el método describir\n",
    "class Coche(Vehiculo):\n",
    "    def describir(self):\n",
    "        return \"Este es un coche.\"\n",
    "\n",
    "# Subclase adicional que también sobrescribe el método describir\n",
    "class Motocicleta(Vehiculo):\n",
    "    def describir(self):\n",
    "        return \"Esta es una motocicleta.\"\n",
    "\n",
    "# Creación de instancias de las clases\n",
    "vehiculo_generico = Vehiculo()\n",
    "mi_coche = Coche()\n",
    "mi_motocicleta = Motocicleta()\n",
    "\n",
    "# Llamada a los métodos describir\n",
    "print(vehiculo_generico.describir())  # Salida: \"Este es un vehículo genérico.\"\n",
    "print(mi_coche.describir())           # Salida: \"Este es un coche.\"\n",
    "print(mi_motocicleta.describir())     # Salida: \"Esta es una motocicleta.\""
   ]
  },
  {
   "attachments": {},
   "cell_type": "markdown",
   "id": "83db3d83-c45d-4368-bbcd-ade05deb7c37",
   "metadata": {},
   "source": [
    "# Clases Abstractas\n",
    "\n",
    "Clases que no se pueden instanciar directamente y que a menudo contienen métodos abstractos que deben implementarse en las clases derivadas.\r\n"
   ]
  },
  {
   "cell_type": "code",
   "execution_count": null,
   "id": "3bd48b43-f2ac-41c3-8e01-0200e17eaddf",
   "metadata": {},
   "outputs": [],
   "source": [
    "from abc import ABC, abstractmethod\n",
    "\n",
    "# Clase abstracta\n",
    "class FiguraGeometrica(ABC):\n",
    "    @abstractmethod\n",
    "    def area(self):\n",
    "        pass\n",
    "\n",
    "# Subclase que implementa el método abstracto\n",
    "class Rectangulo(FiguraGeometrica):\n",
    "    def __init__(self, base, altura):\n",
    "        self.base = base\n",
    "        self.altura = altura\n",
    "\n",
    "    def area(self):\n",
    "        return self.base * self.altura\n",
    "\n",
    "# Intentar crear una instancia de la clase abstracta dará un error.\n",
    "# figura = FiguraGeometrica()  # Error: No se puede instanciar una clase abstracta\n",
    "\n",
    "# Creación de una instancia de la subclase\n",
    "rectangulo = Rectangulo(5, 10)\n",
    "print(rectangulo.area())  # Salida: 50"
   ]
  },
  {
   "cell_type": "markdown",
   "id": "f7b830ff-2ff2-46a7-b17c-6390d85a1ea3",
   "metadata": {},
   "source": [
    "# Tipos Genéricos\n",
    "\n",
    "Permiten la creación de clases y métodos que pueden trabajar con diferentes tipos de datos sin tener que definirse de manera específica."
   ]
  },
  {
   "cell_type": "code",
   "execution_count": null,
   "id": "7d4d94a8-2040-4185-8763-5ae6b653b2d4",
   "metadata": {},
   "outputs": [],
   "source": [
    "# Uso de tipos genéricos\n",
    "def imprimir_elementos(lista):\n",
    "    for elemento in lista:\n",
    "        print(elemento)\n",
    "\n",
    "# Lista de enteros\n",
    "enteros = [1, 2, 3, 4, 5]\n",
    "\n",
    "# Lista de cadenas de texto\n",
    "cadenas = [\"Hola\", \"Mundo\"]\n",
    "\n",
    "imprimir_elementos(enteros)  # Salida: 1 2 3 4 5\n",
    "imprimir_elementos(cadenas)  # Salida: Hola Mundo"
   ]
  },
  {
   "cell_type": "markdown",
   "id": "075c965b-baea-4aee-85b6-c410efe1aa90",
   "metadata": {},
   "source": [
    "# Anotaciones\n",
    "\n",
    "Etiquetas que se aplican a clases, métodos o campos para proporcionar metadatos adicionales, como información de tiempo de ejecución o configuración."
   ]
  },
  {
   "cell_type": "code",
   "execution_count": null,
   "id": "e1811ef1-f78f-4b5e-bedb-ab692e391b61",
   "metadata": {},
   "outputs": [],
   "source": [
    "# Anotaciones de tipos en una función\n",
    "def suma(a: int, b: int) -> int:\n",
    "    return a + b\n",
    "\n",
    "resultado = suma(3, 5)  # El tipo de resultado se infiere como int"
   ]
  },
  {
   "attachments": {},
   "cell_type": "markdown",
   "id": "748d5c65-6842-4a9e-b0a7-90851bf1f73e",
   "metadata": {},
   "source": [
    "# Enumeraciones\n",
    "\n",
    "Tipos de datos que constan de un conjunto fijo de valores nombrados, lo que facilita la representación de categorías discretas.\n"
   ]
  },
  {
   "cell_type": "code",
   "execution_count": null,
   "id": "b7cbf487-de4b-4f3e-ab52-e91839ea344c",
   "metadata": {},
   "outputs": [],
   "source": [
    "from enum import Enum\n",
    "\n",
    "# Declaración de una enumeración\n",
    "class DiaSemana(Enum):\n",
    "    LUNES = 1\n",
    "    MARTES = 2\n",
    "    MIERCOLES = 3\n",
    "    JUEVES = 4\n",
    "    VIERNES = 5\n",
    "\n",
    "# Uso de la enumeración\n",
    "dia = DiaSemana.MARTES\n",
    "print(dia)            # Salida: DiaSemana.MARTES\n",
    "print(dia.value)      # Salida: 2\n",
    "print(dia.name)       # Salida: \"MARTES\""
   ]
  }
 ],
 "metadata": {
  "kernelspec": {
   "display_name": "Python 3 (ipykernel)",
   "language": "python",
   "name": "python3"
  },
  "language_info": {
   "codemirror_mode": {
    "name": "ipython",
    "version": 3
   },
   "file_extension": ".py",
   "mimetype": "text/x-python",
   "name": "python",
   "nbconvert_exporter": "python",
   "pygments_lexer": "ipython3",
   "version": "3.11.4"
  }
 },
 "nbformat": 4,
 "nbformat_minor": 5
}
